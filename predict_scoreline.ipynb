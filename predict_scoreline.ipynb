{
 "cells": [
  {
   "cell_type": "markdown",
   "metadata": {},
   "source": [
    "# Exam result explanination \n",
    "* library using across exam: Pandas, Numpy, Scipy\n",
    "* To calculate the probability of goals in each soccer match, the exam will use the Poisson distribution\n"
   ]
  },
  {
   "cell_type": "markdown",
   "metadata": {},
   "source": [
    "### solving the exam step by step"
   ]
  },
  {
   "cell_type": "markdown",
   "metadata": {},
   "source": [
    "import the library"
   ]
  },
  {
   "cell_type": "code",
   "execution_count": null,
   "metadata": {},
   "outputs": [],
   "source": [
    "import pandas as pd\n",
    "import numpy as np\n",
    "from scipy import stats \n",
    "from scipy.special import factorial\n",
    "\n",
    "data = pd.read_csv('raw.csv',encoding='latin-1')\n",
    "data.info()"
   ]
  },
  {
   "cell_type": "markdown",
   "metadata": {},
   "source": [
    "import the raw data"
   ]
  },
  {
   "cell_type": "code",
   "execution_count": null,
   "metadata": {},
   "outputs": [],
   "source": [
    "data = pd.read_csv('raw.csv',encoding='latin-1')\n"
   ]
  },
  {
   "cell_type": "markdown",
   "metadata": {},
   "source": [
    "calculate the overal average home team score(avg_home_score) and average away team score(avg_away_score) of dataset"
   ]
  },
  {
   "cell_type": "code",
   "execution_count": 2,
   "metadata": {},
   "outputs": [],
   "source": [
    "avg_home_score = data.h_score.mean()\n",
    "avg_away_score = data.a_score.mean()"
   ]
  },
  {
   "cell_type": "code",
   "execution_count": 3,
   "metadata": {
    "scrolled": true
   },
   "outputs": [
    {
     "name": "stdout",
     "output_type": "stream",
     "text": [
      "1.6877916973716531\n",
      "0.9371161876688774\n"
     ]
    }
   ],
   "source": [
    "print(avg_home_score)\n",
    "print(avg_away_score)"
   ]
  },
  {
   "cell_type": "markdown",
   "metadata": {},
   "source": [
    "input the home team(ht) and away team(at) name from the key board"
   ]
  },
  {
   "cell_type": "code",
   "execution_count": 4,
   "metadata": {},
   "outputs": [
    {
     "name": "stdout",
     "output_type": "stream",
     "text": [
      "Enter Home Team: Croatia\n",
      "Enter Away Team: Argentina\n"
     ]
    }
   ],
   "source": [
    "home_team = input(\"Enter Home Team: \")\n",
    "ht = (''.join(home_team.split()))\n",
    "away_team = input(\"Enter Away Team: \")\n",
    "at = (''.join(away_team.split()))"
   ]
  },
  {
   "cell_type": "markdown",
   "metadata": {},
   "source": [
    "### dertermine the average score by ht and average scored conceded by ht "
   ]
  },
  {
   "cell_type": "code",
   "execution_count": null,
   "metadata": {},
   "outputs": [],
   "source": [
    "avg_scored_by_ht =  data[(data.h_team ==ht)].h_score.mean()\n",
    "avg_scored_conceded_by_ht = data[(data.h_team ==ht)].a_score.mean()\n",
    "print(f\"average scored by ht {avg_scored_by_ht}\")\n",
    "print(f\"average conceded by ht {avg_goals_conceded_by_ht}\")"
   ]
  },
  {
   "cell_type": "code",
   "execution_count": 6,
   "metadata": {},
   "outputs": [
    {
     "name": "stdout",
     "output_type": "stream",
     "text": [
      "average  away scored by at 1.4705882352941178\n",
      "average conceded by at 1.3529411764705883\n"
     ]
    }
   ],
   "source": [
    "avg_away_scored_by_at =  data[(data.a_team ==at)].a_score.mean()\n",
    "avg_away_goals_conceded_by_at = data[(data.a_team ==at)].h_score.mean()\n",
    "print(f\"average  away scored by at {avg_away_scored_by_at}\")\n",
    "print(f\"average conceded by at {avg_away_goals_conceded_by_at}\")"
   ]
  },
  {
   "cell_type": "markdown",
   "metadata": {},
   "source": [
    "### calculate attack strength"
   ]
  },
  {
   "cell_type": "markdown",
   "metadata": {},
   "source": [
    "* attack strength is the teams average number of goals, devided by the overall average number of goals\n",
    "* defence strength is calculated by devide the team's average number of goals conceded by the overall average number of goals conceded"
   ]
  },
  {
   "cell_type": "code",
   "execution_count": 7,
   "metadata": {},
   "outputs": [
    {
     "name": "stdout",
     "output_type": "stream",
     "text": [
      "ht_attack_strength is 0.994537081314843\n",
      "ht_defence_strength is 1.1052143793297138\n"
     ]
    }
   ],
   "source": [
    "ht_attack_strength = avg_scored_by_ht/avg_home_score\n",
    "ht_defence_strength = avg_goals_conceded_by_ht/avg_away_score\n",
    "print(f\"ht_attack_strength is {ht_attack_strength}\")\n",
    "print(f\"ht_defence_strength is {ht_defence_strength}\")"
   ]
  },
  {
   "cell_type": "code",
   "execution_count": 8,
   "metadata": {},
   "outputs": [
    {
     "name": "stdout",
     "output_type": "stream",
     "text": [
      "at_attack_strength is 1.5692699097987821\n",
      "at_defence_strength is 0.8016043559033278\n"
     ]
    }
   ],
   "source": [
    "at_attack_strength = avg_away_scored_by_at/avg_away_score\n",
    "at_defence_strength = avg_away_goals_conceded_by_at/avg_home_score\n",
    "print(f\"at_attack_strength is {at_attack_strength}\")\n",
    "print(f\"at_defence_strength is {at_defence_strength}\")"
   ]
  },
  {
   "cell_type": "markdown",
   "metadata": {},
   "source": [
    "* to determine how many goals ht will likely score, we need to multiply ht attack strength by at's defence strength and the overall average number of home goals\n",
    "* to determine how many goals at will likely score, we need to multiply at attack strength by ht's defence strength and the overall average number of away goals"
   ]
  },
  {
   "cell_type": "code",
   "execution_count": 9,
   "metadata": {},
   "outputs": [
    {
     "name": "stdout",
     "output_type": "stream",
     "text": [
      "goal_expect_by_ht is 1.345550168837729\n",
      "goal_expect_by_at is 1.6253152637201675\n"
     ]
    }
   ],
   "source": [
    "goal_expect_by_ht = ht_attack_strength*at_defence_strength*avg_home_score\n",
    "goal_expect_by_at = at_attack_strength*ht_defence_strength*avg_away_score\n",
    "print(f\"goal_expect_by_ht is {goal_expect_by_ht}\")\n",
    "print(f\"goal_expect_by_at is {goal_expect_by_at}\")"
   ]
  },
  {
   "cell_type": "markdown",
   "metadata": {},
   "source": [
    "## estimate the real home goals and away goals by using scipy stats "
   ]
  },
  {
   "cell_type": "code",
   "execution_count": 11,
   "metadata": {},
   "outputs": [
    {
     "name": "stdout",
     "output_type": "stream",
     "text": [
      "Croatia's goals is 1\n",
      "Argentina's goals is 1\n"
     ]
    }
   ],
   "source": [
    "home_goal = int(stats.mode(np.random.poisson(goal_expect_by_ht,100000),keepdims=True)[0])                 \n",
    "away_goal = int(stats.mode(np.random.poisson(goal_expect_by_at,100000),keepdims=True)[0])\n",
    "print(f\"{ht}'s goals is {home_goal}\")\n",
    "print(f\"{at}'s goals is {away_goal}\")"
   ]
  },
  {
   "cell_type": "markdown",
   "metadata": {},
   "source": [
    "# estimate the the win probability (win/draw/lose)"
   ]
  },
  {
   "cell_type": "code",
   "execution_count": 12,
   "metadata": {},
   "outputs": [],
   "source": [
    "\n",
    "\n",
    "def poisson(k,exp_events):\n",
    "    minutes=90\n",
    "    lam =(exp_events)\n",
    "    p_k= np.exp(-lam)*np.power(lam,k)/factorial(k) #possion formula\n",
    "    print(f'The probability of {k} goals in {minutes} minutes is {100*p_k:.2f}%.')\n",
    "    return p_k"
   ]
  },
  {
   "cell_type": "markdown",
   "metadata": {},
   "source": [
    "calculate the probability having n goals of ht in each match"
   ]
  },
  {
   "cell_type": "code",
   "execution_count": 31,
   "metadata": {},
   "outputs": [
    {
     "name": "stdout",
     "output_type": "stream",
     "text": [
      "The probability of 0 goals in 90 minutes is 36.79%.\n",
      "The probability of 1 goals in 90 minutes is 36.79%.\n",
      "The probability of 2 goals in 90 minutes is 18.39%.\n",
      "The probability of 3 goals in 90 minutes is 6.13%.\n",
      "The probability of 4 goals in 90 minutes is 1.53%.\n",
      "The probability of 5 goals in 90 minutes is 0.31%.\n",
      "The probability of 6 goals in 90 minutes is 0.05%.\n",
      "The probability of 7 goals in 90 minutes is 0.01%.\n",
      "The probability of 8 goals in 90 minutes is 0.00%.\n",
      "The probability of 9 goals in 90 minutes is 0.00%.\n"
     ]
    }
   ],
   "source": [
    "k=[]\n",
    "p_k_ht=[]\n",
    "for i in range(10):\n",
    "    p_k_ht.append(poisson(i,home_goal))\n",
    "    k.append(i)"
   ]
  },
  {
   "cell_type": "code",
   "execution_count": 32,
   "metadata": {},
   "outputs": [
    {
     "name": "stdout",
     "output_type": "stream",
     "text": [
      "[0.36787944117144233, 0.36787944117144233, 0.18393972058572117, 0.06131324019524039, 0.015328310048810098, 0.0030656620097620196, 0.0005109436682936699, 7.299195261338141e-05, 9.123994076672677e-06, 1.0137771196302974e-06]\n"
     ]
    }
   ],
   "source": [
    "print(p_k_ht)"
   ]
  },
  {
   "cell_type": "markdown",
   "metadata": {},
   "source": [
    "calculate the probability having n goals of at in each match"
   ]
  },
  {
   "cell_type": "code",
   "execution_count": 33,
   "metadata": {},
   "outputs": [
    {
     "name": "stdout",
     "output_type": "stream",
     "text": [
      "The probability of 0 goals in 90 minutes is 36.79%.\n",
      "The probability of 1 goals in 90 minutes is 36.79%.\n",
      "The probability of 2 goals in 90 minutes is 18.39%.\n",
      "The probability of 3 goals in 90 minutes is 6.13%.\n",
      "The probability of 4 goals in 90 minutes is 1.53%.\n",
      "The probability of 5 goals in 90 minutes is 0.31%.\n",
      "The probability of 6 goals in 90 minutes is 0.05%.\n",
      "The probability of 7 goals in 90 minutes is 0.01%.\n",
      "The probability of 8 goals in 90 minutes is 0.00%.\n",
      "The probability of 9 goals in 90 minutes is 0.00%.\n"
     ]
    }
   ],
   "source": [
    "m=[]\n",
    "p_k_at=[]\n",
    "for i in range(10):\n",
    "    p_k_at.append(poisson(i,away_goal))\n",
    "    m.append(i)"
   ]
  },
  {
   "cell_type": "code",
   "execution_count": 55,
   "metadata": {},
   "outputs": [
    {
     "name": "stdout",
     "output_type": "stream",
     "text": [
      "[0.36787944117144233, 0.36787944117144233, 0.18393972058572117, 0.06131324019524039, 0.015328310048810098, 0.0030656620097620196, 0.0005109436682936699, 7.299195261338141e-05, 9.123994076672677e-06, 1.0137771196302974e-06]\n"
     ]
    }
   ],
   "source": [
    "print(p_k_at)"
   ]
  },
  {
   "attachments": {
    "image-3.png": {
     "image/png": "[encoded data removed]"
    }
   },
   "cell_type": "markdown",
   "metadata": {},
   "source": [
    "to get each posible score, simply multiply the probability of each posible score by each team by the probability of each possible score by the other team. that gives you the following disstibution  \n",
    "\n",
    "![image-3.png](attachment:image-3.png)\n"
   ]
  },
  {
   "cell_type": "markdown",
   "metadata": {},
   "source": [
    "to calculate the chance of ht draw, we add all the red squares from the table above: that give us an estimated draw chance of ht"
   ]
  },
  {
   "cell_type": "code",
   "execution_count": 59,
   "metadata": {},
   "outputs": [],
   "source": [
    "percentage_draw = 0\n",
    "for k in range(10):\n",
    "    \n",
    "    percentage_draw +=  (p_k_at[k] * p_k_ht[k])"
   ]
  },
  {
   "cell_type": "code",
   "execution_count": 60,
   "metadata": {},
   "outputs": [
    {
     "name": "stdout",
     "output_type": "stream",
     "text": [
      "the Croatia team has percentage of draw: 0.3085083225536607\n"
     ]
    }
   ],
   "source": [
    "print(f\"the {ht} team has percentage of draw: {percentage_draw}\")"
   ]
  },
  {
   "cell_type": "markdown",
   "metadata": {},
   "source": [
    "to calculate the chance of ht win, we add all the blue squares from the table above: that give us an estimated win chance of ht "
   ]
  },
  {
   "cell_type": "code",
   "execution_count": 61,
   "metadata": {},
   "outputs": [],
   "source": [
    "percentage_win = 0\n",
    "for k in range(1,9):\n",
    "    for m in range(k):\n",
    "        percentage_win +=  (p_k_ht[k] * p_k_at[m])"
   ]
  },
  {
   "cell_type": "code",
   "execution_count": 62,
   "metadata": {},
   "outputs": [
    {
     "name": "stdout",
     "output_type": "stream",
     "text": [
      "the Croatia team has percentage of win: 0.34574471352171876\n"
     ]
    }
   ],
   "source": [
    "print(f\"the {ht} team has percentage of win: {percentage_win}\")"
   ]
  },
  {
   "cell_type": "markdown",
   "metadata": {},
   "source": [
    "to calculate the chance of ht lose, we add all the green squares from the table above: that give us an estimated lose chance of ht"
   ]
  },
  {
   "cell_type": "code",
   "execution_count": 51,
   "metadata": {},
   "outputs": [],
   "source": [
    "percentage_lose = 0\n",
    "for k in range(1,9):\n",
    "    for m in range(k):\n",
    "        percentage_lose +=  (p_k_at[k] * p_k_ht[m])"
   ]
  },
  {
   "cell_type": "code",
   "execution_count": 58,
   "metadata": {},
   "outputs": [
    {
     "name": "stdout",
     "output_type": "stream",
     "text": [
      "the Croatia team has percentage of lose: 0.34574471352171876\n"
     ]
    }
   ],
   "source": [
    "print(f\"the {ht} team has percentage of lose: {percentage_lose}\")"
   ]
  }
 ],
 "metadata": {
  "celltoolbar": "Raw Cell Format",
  "kernelspec": {
   "display_name": "Python 3 (ipykernel)",
   "language": "python",
   "name": "python3"
  },
  "language_info": {
   "codemirror_mode": {
    "name": "ipython",
    "version": 3
   },
   "file_extension": ".py",
   "mimetype": "text/x-python",
   "name": "python",
   "nbconvert_exporter": "python",
   "pygments_lexer": "ipython3",
   "version": "3.10.1"
  }
 },
 "nbformat": 4,
 "nbformat_minor": 2
}
